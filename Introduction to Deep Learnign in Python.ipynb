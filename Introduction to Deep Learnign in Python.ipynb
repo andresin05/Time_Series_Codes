{
 "cells": [
  {
   "cell_type": "markdown",
   "id": "2755cdbc",
   "metadata": {},
   "source": [
    "# Introduction to Deep Learging in Python\n",
    "\n",
    "## Basics of deep learing and neuronal networks"
   ]
  },
  {
   "cell_type": "code",
   "execution_count": 5,
   "id": "f4b95ad0",
   "metadata": {},
   "outputs": [],
   "source": [
    "import numpy as np\n",
    "\n",
    "input_data = np.array([2, 3])\n",
    "weights = {\"node_0\": np.array([1, 1]),\n",
    "           \"node_1\": np.array([-1, 1]),\n",
    "           \"output\": np.array([2, -1])}\n",
    "node_0_value = (input_data * weights[\"node_0\"]).sum()\n",
    "node_1_value = (input_data * weights[\"node_1\"]).sum()"
   ]
  },
  {
   "cell_type": "code",
   "execution_count": 6,
   "id": "416b0d82",
   "metadata": {},
   "outputs": [
    {
     "name": "stdout",
     "output_type": "stream",
     "text": [
      "[5 1]\n"
     ]
    }
   ],
   "source": [
    "hiden_layer_values = np.array([node_0_value, node_1_value])\n",
    "print(hiden_layer_values)"
   ]
  },
  {
   "cell_type": "code",
   "execution_count": 7,
   "id": "1ecf5be2",
   "metadata": {},
   "outputs": [
    {
     "name": "stdout",
     "output_type": "stream",
     "text": [
      "9\n"
     ]
    }
   ],
   "source": [
    "output = (hiden_layer_values * weights[\"output\"]).sum()\n",
    "print(output)"
   ]
  },
  {
   "cell_type": "code",
   "execution_count": 9,
   "id": "727e2a0a",
   "metadata": {},
   "outputs": [
    {
     "name": "stdout",
     "output_type": "stream",
     "text": [
      "-39\n"
     ]
    }
   ],
   "source": [
    "input_data = np.array([3, 5])\n",
    "weights = {\"node_0\": np.array([2, 4]),\n",
    "           \"node_1\": np.array([4, -5]),\n",
    "           \"output\": np.array([2, 7])}\n",
    "\n",
    "# Calculate node 0 value: node_0_value\n",
    "node_0_value = (input_data * weights[\"node_0\"]).sum()\n",
    "\n",
    "# Calculate node 1 value: node_1_value\n",
    "node_1_value = (input_data * weights[\"node_1\"]).sum()\n",
    "\n",
    "# Put node values into array: hiden_layer_outputs\n",
    "hiden_layers_outputs = np.array([node_0_value, node_1_value])\n",
    "\n",
    "# Calculate de output: output\n",
    "output = (hiden_layers_outputs * weights[\"output\"]).sum()\n",
    "\n",
    "# Print output\n",
    "print(output)"
   ]
  },
  {
   "cell_type": "markdown",
   "id": "a93cea86",
   "metadata": {},
   "source": [
    "An activation function allows the model to capture non-linearities. An activation function is something applied to the value coming into a node, which then transforms into the value stored in that node, or the node output."
   ]
  },
  {
   "cell_type": "code",
   "execution_count": null,
   "id": "9b2020bf",
   "metadata": {},
   "outputs": [],
   "source": [
    "input_data = np.array([-1, 2])\n",
    "weights = {\"node_0\" : np.array([3, 3]),\n",
    "           \"node_1\" : np.array([1, 5]),\n",
    "           \"node_2\" : np.array([2, -1])}\n",
    "node_0_input"
   ]
  }
 ],
 "metadata": {
  "kernelspec": {
   "display_name": "Python 3 (ipykernel)",
   "language": "python",
   "name": "python3"
  },
  "language_info": {
   "codemirror_mode": {
    "name": "ipython",
    "version": 3
   },
   "file_extension": ".py",
   "mimetype": "text/x-python",
   "name": "python",
   "nbconvert_exporter": "python",
   "pygments_lexer": "ipython3",
   "version": "3.10.9"
  }
 },
 "nbformat": 4,
 "nbformat_minor": 5
}
